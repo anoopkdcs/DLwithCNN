{
  "nbformat": 4,
  "nbformat_minor": 0,
  "metadata": {
    "kernelspec": {
      "display_name": "Python 3",
      "language": "python",
      "name": "python3"
    },
    "language_info": {
      "codemirror_mode": {
        "name": "ipython",
        "version": 3
      },
      "file_extension": ".py",
      "mimetype": "text/x-python",
      "name": "python",
      "nbconvert_exporter": "python",
      "pygments_lexer": "ipython3",
      "version": "3.7.3"
    },
    "colab": {
      "name": "CNN_textClassifier.ipynb",
      "provenance": [],
      "collapsed_sections": []
    },
    "accelerator": "GPU"
  },
  "cells": [
    {
      "cell_type": "markdown",
      "metadata": {
        "id": "ymWh_PgHwjt3"
      },
      "source": [
        "<center> <div style=\"text-align: center\"> <h1>DNN based Text Classifier using Keras   </h1></div>\n",
        "<hl></center>"
      ]
    },
    {
      "cell_type": "markdown",
      "metadata": {
        "id": "A4n2GRLJwjt6"
      },
      "source": [
        "**Anoop K. & Manjary P. Gangan** <br>\n",
        "CIDA Labs, Department of Computer Science<br>\n",
        "University of Calicut<br>\n",
        "https://dcs.uoc.ac.in/~anoop <br>\n",
        "https://dcs.uoc.ac.in/~manjary <br><br>\n",
        "________________________"
      ]
    },
    {
      "cell_type": "markdown",
      "metadata": {
        "id": "wqbLdqs_wjt9"
      },
      "source": [
        "<center><img width=\"600\" height=\"350\" src=\"https://drive.google.com/uc?id=1TD138tj4cb89_3E62wqsvqR9WUiwNDx_\"></center>"
      ]
    },
    {
      "cell_type": "markdown",
      "metadata": {
        "id": "etj1zQnWwjt_"
      },
      "source": [
        "# Sentiment Analysis: Predict Sentiment from Movie Reviews\n",
        "<div style=\"text-align: justify\">Definition 1: Sentiment analysis (also known as opinion mining or emotion AI) refers to the use of natural language processing, text analysis, computational linguistics, and biometrics to systematically identify, extract, quantify, and study affective states and subjective information. Sentiment analysis is widely applied to voice of the customer materials such as reviews and survey responses, online and social media, and healthcare materials for applications that range from marketing to customer service to clinical medicine. </div> <br>\n",
        "<div style=\"text-align: justify\"> Definition 2: Sentiment analysis is a type of data mining that measures the inclination of people’s opinions through natural language processing (NLP), computational linguistics and text analysis, which are used to extract and analyze subjective information from the Web - mostly social media and similar sources. The analyzed data quantifies the general public's sentiments or reactions toward certain products, people or ideas and reveal the contextual polarity of the information.</div>"
      ]
    },
    {
      "cell_type": "markdown",
      "metadata": {
        "id": "zjnoBqfuwjuC"
      },
      "source": [
        "# Text to Vector\n",
        "### 1. TF-IDF\n",
        "In information retrieval, tf–idf or TFIDF, short for term frequency–inverse document frequency, is a numerical statistic that is intended to reflect how important a word is to a document in a collection or corpus.\n",
        "<center>\n",
        "<img width=\"600\" height=\"500\" src=\"https://drive.google.com/uc?id=18BFjUHxONPZiNT7wogyjA9KRWbiU3RjD\"> </center>\n",
        "\n",
        "### 2. One-Hot encoding\n",
        "### 3. Word Embedding"
      ]
    },
    {
      "cell_type": "markdown",
      "metadata": {
        "id": "mThOJLiXwjuE"
      },
      "source": [
        "# IMDB Movie Review Sentiment Problem Description\n",
        "## Dataset Description : Large Movie Review Dataset v1.0\n",
        "<div style=\"text-align: justify\">The Large Movie Review Dataset (often referred to as the IMDB dataset) contains 25,000 highly polar moving reviews (good or bad) for training and the same amount again for testing. The problem is to determine whether a given moving review has a positive or negative sentiment.\n",
        "The data was collected by Stanford researchers and was used in a 2011 paper <a href=\"http://ai.stanford.edu/~amaas/papers/wvSent_acl2011.pdf\"> [PDF] </a>where a split of 50/50 of the data was used for training and test. An accuracy of 88.89% was achieved.\n",
        "The data was also used as the basis for a Kaggle competition titled “Bag of Words Meets Bags of Popcorn” in late 2014 to early 2015. Accuracy was achieved above 97% with winners achieving 99%.</div>\n"
      ]
    },
    {
      "cell_type": "markdown",
      "metadata": {
        "id": "VjxnaRTxwjuF"
      },
      "source": [
        "## Load the IMDB Dataset With Keras\n",
        "<div style=\"text-align: justify\">\n",
        "Keras provides access to the IMDB dataset built-in. The keras.datasets.imdb.load_data() allows you to load the dataset in a format that is ready for use in neural network and deep learning models.The words have been replaced by integers that indicate the absolute popularity of the word in the dataset. The sentences in each review are therefore comprised of a sequence of integers. More details; the reviews have been preprocessed, and each review is encoded as a sequence of word indexes (integers). For convenience, words are indexed by overall frequency in the dataset, so that for instance the integer \"3\" encodes the 3rd most frequent word in the data. This allows for quick filtering operations such as: \"only consider the top 10,000 most common words, but eliminate the top 20 most common words\".<br>\n",
        "\n",
        "Calling imdb.load_data() the first time will download the IMDB dataset to your computer and store it in your home directory under ~/.keras/datasets/imdb.pkl as a 32 megabyte file.Usefully, the imdb.load_data() provides additional arguments including the number of top words to load (where words with a lower integer are marked as zero in the returned data), the number of top words to skip (to avoid the “the”‘s) and the maximum length of reviews to support. </div> <br>\n",
        "**Note:** <br>\n",
        "If you have raw text data, better to use keras <b>Text Preprocessing</b> package. \n",
        "1. texts_to_sequences\n",
        "2. text_to_word_sequence\n",
        "3. one_hot <br>\n",
        "etc."
      ]
    },
    {
      "cell_type": "code",
      "metadata": {
        "id": "86ZBpWDOyCKM",
        "colab": {
          "base_uri": "https://localhost:8080/"
        },
        "outputId": "309acdfc-cad2-4dc4-8d1c-9751d849abbf"
      },
      "source": [
        "from google.colab import drive\n",
        "drive.mount('/content/drive')"
      ],
      "execution_count": null,
      "outputs": [
        {
          "output_type": "stream",
          "name": "stdout",
          "text": [
            "Mounted at /content/drive\n"
          ]
        }
      ]
    },
    {
      "cell_type": "code",
      "metadata": {
        "id": "Ix9Y1_GTwjuL",
        "colab": {
          "base_uri": "https://localhost:8080/"
        },
        "outputId": "b35e75a0-f90c-4c23-b5a0-e7356234204b"
      },
      "source": [
        "import numpy\n",
        "from keras.datasets import imdb\n",
        "from matplotlib import pyplot\n",
        "# load the dataset\n",
        "(X_train, y_train), (X_test, y_test) = imdb.load_data()\n",
        "X = numpy.concatenate((X_train, X_test), axis=0)\n",
        "y = numpy.concatenate((y_train, y_test), axis=0)"
      ],
      "execution_count": null,
      "outputs": [
        {
          "output_type": "stream",
          "name": "stdout",
          "text": [
            "Downloading data from https://storage.googleapis.com/tensorflow/tf-keras-datasets/imdb.npz\n",
            "17465344/17464789 [==============================] - 0s 0us/step\n",
            "17473536/17464789 [==============================] - 0s 0us/step\n"
          ]
        }
      ]
    },
    {
      "cell_type": "code",
      "metadata": {
        "id": "PxIB0yHMwjuV",
        "colab": {
          "base_uri": "https://localhost:8080/"
        },
        "outputId": "f8761708-b670-47ec-9b1f-3f42e584ed06"
      },
      "source": [
        "# summarize size: Shape of training dataset\n",
        "print(\"Total Data: \")\n",
        "print(X.shape)\n",
        "print(y.shape)"
      ],
      "execution_count": null,
      "outputs": [
        {
          "output_type": "stream",
          "name": "stdout",
          "text": [
            "Total Data: \n",
            "(50000,)\n",
            "(50000,)\n"
          ]
        }
      ]
    },
    {
      "cell_type": "code",
      "metadata": {
        "id": "yuuhlFWBwjug",
        "colab": {
          "base_uri": "https://localhost:8080/"
        },
        "outputId": "86508ac7-e431-4ccb-8ec4-8f0158afa69a"
      },
      "source": [
        "# Summarize number of classes\n",
        "print(\"Classes: \")\n",
        "print(numpy.unique(y))"
      ],
      "execution_count": null,
      "outputs": [
        {
          "output_type": "stream",
          "name": "stdout",
          "text": [
            "Classes: \n",
            "[0 1]\n"
          ]
        }
      ]
    },
    {
      "cell_type": "code",
      "metadata": {
        "id": "6Vrk_Bb4wjuo",
        "colab": {
          "base_uri": "https://localhost:8080/"
        },
        "outputId": "bace3b92-9ba2-442c-d575-12c6acbb7bf0"
      },
      "source": [
        "# Summarize number of words\n",
        "print(\"Number of words: \")\n",
        "print(len(numpy.unique(numpy.hstack(X))))"
      ],
      "execution_count": null,
      "outputs": [
        {
          "output_type": "stream",
          "name": "stdout",
          "text": [
            "Number of words: \n",
            "88585\n"
          ]
        }
      ]
    },
    {
      "cell_type": "code",
      "metadata": {
        "id": "zBkw1pOWwjuv",
        "colab": {
          "base_uri": "https://localhost:8080/"
        },
        "outputId": "91bf6a9d-8c4d-47ab-c5f9-74a4226d0f5d"
      },
      "source": [
        "# Summarize review length\n",
        "print(\"Review length: \")\n",
        "result = [len(x) for x in X]\n",
        "print(\"Mean %.2f words (%f)\" % (numpy.mean(result), numpy.std(result)))\n",
        "#We can see that the average review has just under 300 words with a standard deviation of just over 200 words."
      ],
      "execution_count": null,
      "outputs": [
        {
          "output_type": "stream",
          "name": "stdout",
          "text": [
            "Review length: \n",
            "Mean 234.76 words (172.911495)\n"
          ]
        }
      ]
    },
    {
      "cell_type": "markdown",
      "metadata": {
        "id": "j8Ns29VGwju3"
      },
      "source": [
        "## Word Embeddings\n",
        "<div style=\"text-align: justify\"> This is a technique where words are encoded as real-valued vectors in a high-dimensional space, where the similarity between words in terms of meaning translates to closeness in the vector space. Discrete words are mapped to vectors of continuous numbers. This is useful when working with natural language problems with neural networks and deep learning models are we require numbers as input. </div>\n",
        "<br><div style=\"text-align: justify\"> \n",
        "Keras provides a convenient way to convert positive integer representations of words into a word embedding by an <b>Embedding layer</b>. The layer takes arguments that define the mapping including the maximum number of expected words also called the vocabulary size (e.g. the largest integer value that will be seen as an integer). The layer also allows you to specify the dimensionality for each word vector, called the output dimension.</div>\n",
        "<br><div style=\"text-align: justify\"> \n",
        "Let’s say that we are only interested in the first 5,000 most used words in the dataset. Therefore our vocabulary size will be 5,000. We can choose to use a 32-dimension vector to represent each word. Finally, we may choose to cap the maximum review length at 500 words, truncating reviews longer than that and padding reviews shorter than that with 0 values. </div>\n",
        "\n",
        "imdb.load_data(nb_words=5000) <br>\n",
        "X_train = sequence.pad_sequences(X_train, maxlen=500)<br>\n",
        "X_test = sequence.pad_sequences(X_test, maxlen=500)<br>\n",
        "Embedding(5000, 32, input_length=500)<br>\n",
        "\n",
        "The output of this first layer would be a matrix with the size 32×500 for a given review training or test pattern in integer format. <br>\n",
        "\n",
        "**Note:**\n",
        "1. How to Use Word Embedding Layers for Deep Learning with Keras <br>\n",
        "https://machinelearningmastery.com/use-word-embedding-layers-deep-learning-keras/"
      ]
    },
    {
      "cell_type": "markdown",
      "metadata": {
        "id": "yT4mlxmOwju4"
      },
      "source": [
        "# Simple Multi-Layer Perceptron Model for the IMDB Dataset\n",
        "## Load the Data"
      ]
    },
    {
      "cell_type": "code",
      "metadata": {
        "id": "oe9_9Y2Uwju6"
      },
      "source": [
        "# MLP for the IMDB problem\n",
        "from keras.datasets import imdb\n",
        "from keras.models import Sequential\n",
        "from keras.layers import Dense\n",
        "from keras.layers import Flatten\n",
        "from keras.layers.embeddings import Embedding\n",
        "from keras.preprocessing import sequence\n",
        "# load the dataset but only keep the top n words, zero the rest\n",
        "top_words = 5000\n",
        "(X_train, y_train), (X_test, y_test) = imdb.load_data(num_words=top_words)\n",
        "max_words = 500\n",
        "X_train = sequence.pad_sequences(X_train, maxlen=max_words)\n",
        "X_test = sequence.pad_sequences(X_test, maxlen=max_words)"
      ],
      "execution_count": null,
      "outputs": []
    },
    {
      "cell_type": "markdown",
      "metadata": {
        "id": "mVIZhN39wju-"
      },
      "source": [
        "## Create the Model "
      ]
    },
    {
      "cell_type": "code",
      "metadata": {
        "id": "9YNMPzSOwju-",
        "colab": {
          "base_uri": "https://localhost:8080/"
        },
        "outputId": "f431bfad-1ca0-465d-b691-04c974098132"
      },
      "source": [
        "# create the model\n",
        "model = Sequential()\n",
        "model.add(Embedding(top_words, 32, input_length=max_words))\n",
        "model.add(Flatten())\n",
        "model.add(Dense(250, activation='relu'))\n",
        "model.add(Dense(1, activation='sigmoid'))\n",
        "model.compile(loss='binary_crossentropy', optimizer='adam', metrics=['accuracy'])\n",
        "model.summary()"
      ],
      "execution_count": null,
      "outputs": [
        {
          "output_type": "stream",
          "name": "stdout",
          "text": [
            "Model: \"sequential\"\n",
            "_________________________________________________________________\n",
            " Layer (type)                Output Shape              Param #   \n",
            "=================================================================\n",
            " embedding (Embedding)       (None, 500, 32)           160000    \n",
            "                                                                 \n",
            " flatten (Flatten)           (None, 16000)             0         \n",
            "                                                                 \n",
            " dense (Dense)               (None, 250)               4000250   \n",
            "                                                                 \n",
            " dense_1 (Dense)             (None, 1)                 251       \n",
            "                                                                 \n",
            "=================================================================\n",
            "Total params: 4,160,501\n",
            "Trainable params: 4,160,501\n",
            "Non-trainable params: 0\n",
            "_________________________________________________________________\n"
          ]
        }
      ]
    },
    {
      "cell_type": "markdown",
      "metadata": {
        "id": "ZpWjFk_SwjvE"
      },
      "source": [
        "## Fit & Evaluate the Model"
      ]
    },
    {
      "cell_type": "code",
      "metadata": {
        "id": "TJbq-g39wjvH",
        "colab": {
          "base_uri": "https://localhost:8080/"
        },
        "outputId": "0412fc6a-3dc8-42b7-de55-f0ec317bdcec"
      },
      "source": [
        "# Fit the model\n",
        "model.fit(X_train, y_train, validation_data=(X_test, y_test), epochs=5, batch_size=128, verbose=1)\n",
        "\n",
        "# Final evaluation of the model\n",
        "scores = model.evaluate(X_test, y_test, verbose=0)\n",
        "print(\"Accuracy: %.2f%%\" % (scores[1]*100))"
      ],
      "execution_count": null,
      "outputs": [
        {
          "output_type": "stream",
          "name": "stdout",
          "text": [
            "Epoch 1/5\n",
            "196/196 [==============================] - 6s 18ms/step - loss: 0.4619 - accuracy: 0.7611 - val_loss: 0.3126 - val_accuracy: 0.8646\n",
            "Epoch 2/5\n",
            "196/196 [==============================] - 3s 13ms/step - loss: 0.1684 - accuracy: 0.9374 - val_loss: 0.3275 - val_accuracy: 0.8658\n",
            "Epoch 3/5\n",
            "196/196 [==============================] - 3s 17ms/step - loss: 0.0490 - accuracy: 0.9872 - val_loss: 0.4055 - val_accuracy: 0.8649\n",
            "Epoch 4/5\n",
            "196/196 [==============================] - 3s 13ms/step - loss: 0.0084 - accuracy: 0.9990 - val_loss: 0.4940 - val_accuracy: 0.8636\n",
            "Epoch 5/5\n",
            "196/196 [==============================] - 3s 17ms/step - loss: 0.0019 - accuracy: 1.0000 - val_loss: 0.5449 - val_accuracy: 0.8648\n",
            "Accuracy: 86.48%\n"
          ]
        }
      ]
    },
    {
      "cell_type": "markdown",
      "metadata": {
        "id": "eWJzGxKZwjvM"
      },
      "source": [
        "# One-Dimensional CNN Model for the IMDB Dataset\n",
        "<b>Ref:</b> https://missinglink.ai/guides/keras/keras-conv1d-working-1d-convolutional-neural-networks-keras/\n",
        "\n",
        "\n",
        "---\n",
        "\n",
        "\n",
        "\n",
        "\n",
        "## Load the Data"
      ]
    },
    {
      "cell_type": "code",
      "metadata": {
        "id": "7VapZdJpwjvN"
      },
      "source": [
        "# CNN for the IMDB problem\n",
        "from keras.datasets import imdb\n",
        "from keras.models import Sequential\n",
        "from keras.layers import Dense\n",
        "from keras.layers import Flatten\n",
        "from keras.layers.convolutional import Conv1D\n",
        "from keras.layers.convolutional import MaxPooling1D\n",
        "from keras.layers.embeddings import Embedding\n",
        "from keras.preprocessing import sequence\n",
        "# load the dataset but only keep the top n words, zero the rest\n",
        "top_words = 5000\n",
        "(X_train, y_train), (X_test, y_test) = imdb.load_data(num_words=top_words)\n",
        "# pad dataset to a maximum review length in words\n",
        "max_words = 500\n",
        "X_train = sequence.pad_sequences(X_train, maxlen=max_words)\n",
        "X_test = sequence.pad_sequences(X_test, maxlen=max_words)"
      ],
      "execution_count": null,
      "outputs": []
    },
    {
      "cell_type": "code",
      "metadata": {
        "id": "CtgsL4Wl1wgp",
        "colab": {
          "base_uri": "https://localhost:8080/",
          "height": 53
        },
        "outputId": "dccbf153-7913-4ef2-dbfd-713ce274bc03"
      },
      "source": [
        "print('Shape of X train and X validation tensor:', X_train.shape,X_test.shape)\n",
        "print('Shape of label train and validation tensor:', y_train.shape,y_test.shape)"
      ],
      "execution_count": null,
      "outputs": [
        {
          "output_type": "stream",
          "text": [
            "Shape of X train and X validation tensor: (25000, 500) (25000, 500)\n",
            "Shape of label train and validation tensor: (25000,) (25000,)\n"
          ],
          "name": "stdout"
        }
      ]
    },
    {
      "cell_type": "markdown",
      "metadata": {
        "id": "rGnV3e2uwjvR"
      },
      "source": [
        "## Create the Model\n",
        "Keras supports one-dimensional convolutions and pooling by the Conv1D and MaxPooling1D classes respectively."
      ]
    },
    {
      "cell_type": "code",
      "metadata": {
        "id": "dCKjQTlCwjvS",
        "colab": {
          "base_uri": "https://localhost:8080/"
        },
        "outputId": "38890254-9f83-4b30-8599-27809f6fa995"
      },
      "source": [
        "# create the model\n",
        "model = Sequential()\n",
        "model.add(Embedding(top_words, 32, input_length=max_words))\n",
        "model.add(Conv1D(32, 3, padding='same', activation='relu'))\n",
        "model.add(MaxPooling1D())\n",
        "model.add(Flatten())\n",
        "model.add(Dense(250, activation='relu'))\n",
        "model.add(Dense(1, activation='sigmoid'))\n",
        "model.compile(loss='binary_crossentropy', optimizer='adam', metrics=['accuracy'])\n",
        "model.summary()"
      ],
      "execution_count": null,
      "outputs": [
        {
          "output_type": "stream",
          "name": "stdout",
          "text": [
            "Model: \"sequential_1\"\n",
            "_________________________________________________________________\n",
            " Layer (type)                Output Shape              Param #   \n",
            "=================================================================\n",
            " embedding_1 (Embedding)     (None, 500, 32)           160000    \n",
            "                                                                 \n",
            " conv1d (Conv1D)             (None, 500, 32)           3104      \n",
            "                                                                 \n",
            " max_pooling1d (MaxPooling1D  (None, 250, 32)          0         \n",
            " )                                                               \n",
            "                                                                 \n",
            " flatten_1 (Flatten)         (None, 8000)              0         \n",
            "                                                                 \n",
            " dense_2 (Dense)             (None, 250)               2000250   \n",
            "                                                                 \n",
            " dense_3 (Dense)             (None, 1)                 251       \n",
            "                                                                 \n",
            "=================================================================\n",
            "Total params: 2,163,605\n",
            "Trainable params: 2,163,605\n",
            "Non-trainable params: 0\n",
            "_________________________________________________________________\n"
          ]
        }
      ]
    },
    {
      "cell_type": "markdown",
      "metadata": {
        "id": "3--w81LKwjvZ"
      },
      "source": [
        "## Fit and Evaluate the Model"
      ]
    },
    {
      "cell_type": "code",
      "metadata": {
        "id": "Z0sYTH1vwjva",
        "colab": {
          "base_uri": "https://localhost:8080/"
        },
        "outputId": "c4a230aa-ba2c-48d0-da59-3e72cf0b8fc3"
      },
      "source": [
        "# Fit the model\n",
        "model.fit(X_train, y_train, validation_data=(X_test, y_test), epochs=5, batch_size=128, verbose=1)\n",
        "\n",
        "# Final evaluation of the model\n",
        "scores = model.evaluate(X_test, y_test, verbose=0)\n",
        "print(\"Accuracy: %.2f%%\" % (scores[1]*100))"
      ],
      "execution_count": null,
      "outputs": [
        {
          "output_type": "stream",
          "name": "stdout",
          "text": [
            "Epoch 1/5\n",
            "196/196 [==============================] - 11s 17ms/step - loss: 0.4309 - accuracy: 0.7772 - val_loss: 0.2838 - val_accuracy: 0.8829\n",
            "Epoch 2/5\n",
            "196/196 [==============================] - 4s 19ms/step - loss: 0.2125 - accuracy: 0.9172 - val_loss: 0.2791 - val_accuracy: 0.8851\n",
            "Epoch 3/5\n",
            "196/196 [==============================] - 3s 16ms/step - loss: 0.1555 - accuracy: 0.9423 - val_loss: 0.3425 - val_accuracy: 0.8679\n",
            "Epoch 4/5\n",
            "196/196 [==============================] - 4s 19ms/step - loss: 0.1064 - accuracy: 0.9644 - val_loss: 0.3629 - val_accuracy: 0.8672\n",
            "Epoch 5/5\n",
            "196/196 [==============================] - 3s 16ms/step - loss: 0.0519 - accuracy: 0.9868 - val_loss: 0.4207 - val_accuracy: 0.8728\n",
            "Accuracy: 87.28%\n"
          ]
        }
      ]
    },
    {
      "cell_type": "markdown",
      "metadata": {
        "id": "nVdGIcoowjvd"
      },
      "source": [
        "# CNN for Sentence Classification by Zhang et al. & Kim"
      ]
    },
    {
      "cell_type": "markdown",
      "metadata": {
        "id": "QyxEvDJOwjve"
      },
      "source": [
        "1. Zhang, Y., & Wallace, B. (2015), A Sensitivity Analysis of (and Practitioners’ Guide to) Convolutional Neural Networks for Sentence Classification. </br>\n",
        "2. Kim, Yoon. \"Convolutional neural networks for sentence classification.\" arXiv preprint arXiv:1408.5882 (2014)."
      ]
    },
    {
      "cell_type": "markdown",
      "metadata": {
        "id": "zv9FqCSWwjvf"
      },
      "source": [
        "<center><img width=\"600\" height=\"500\" src=\"https://drive.google.com/uc?id=1Q90KCeWdyB2vACz2z9rQR27nssYO7Hxi\"> </center>\n",
        "<div style=\"text-align: justify\">\n",
        " Illustration of a Convolutional Neural Network (CNN) architecture for sentence classification. Here we depict three filter region sizes: 2, 3 and 4, each of which has 2 filters. Every filter performs convolution on the sentence matrix and generates (variable-length) feature maps. Then 1-max pooling is performed over each map, i.e., the largest number from each feature map is recorded. Thus a univariate feature vector is generated from all six maps, and these 6 features are concatenated to form a feature vector for the penultimate layer. The final softmax layer then receives this feature vector as input and uses it to classify the sentence; here we assume binary classification and hence depict two possible output states.</div> \n",
        "<h1> let's try to implement this model! </h1> "
      ]
    },
    {
      "cell_type": "markdown",
      "metadata": {
        "id": "7ENK6K0Kwjvi"
      },
      "source": [
        "Reference: \n",
        "1. https://machinelearningmastery.com/predict-sentiment-movie-reviews-using-deep-learning/\n",
        "2. https://stackabuse.com/python-for-nlp-movie-sentiment-analysis-using-deep-learning-in-keras/\n",
        "3. http://www.wildml.com/2015/11/understanding-convolutional-neural-networks-for-nlp/ <br>\n",
        "\n"
      ]
    },
    {
      "cell_type": "markdown",
      "metadata": {
        "id": "FbUz-s5Pwjvr"
      },
      "source": [
        "<center><img width=\"400\" height=\"250\" src=\"https://drive.google.com/uc?id=1LdciBzE4Oc__NE00Bw0TisofYTP0qGc0\"> </center>"
      ]
    }
  ]
}